{
 "cells": [
  {
   "cell_type": "code",
   "execution_count": 1,
   "id": "58d499d9",
   "metadata": {},
   "outputs": [],
   "source": [
    "import pandas as pd"
   ]
  },
  {
   "cell_type": "code",
   "execution_count": 2,
   "id": "7948b425",
   "metadata": {},
   "outputs": [],
   "source": [
    "df1 = pd.read_csv('C:/Users/Naseri/Downloads/CENSUS_MHI_STATE.csv')\n",
    "df2 = pd.read_csv('C:/Users/Naseri/Downloads/CENSUS_POPULATION_STATE.csv')\n",
    "df3 = pd.read_csv('C:/Users/Naseri/Downloads/REDFIN_MEDIAN_SALE_PRICE.csv')"
   ]
  },
  {
   "cell_type": "code",
   "execution_count": 3,
   "id": "b31ae633",
   "metadata": {},
   "outputs": [],
   "source": [
    "df1_cleaned = df1.drop(index=0).copy()"
   ]
  },
  {
   "cell_type": "code",
   "execution_count": 6,
   "id": "f8379c54",
   "metadata": {},
   "outputs": [],
   "source": [
    "df1_cleaned.rename(columns={df1_cleaned.columns[0]: \"Group\"}, inplace=True)"
   ]
  },
  {
   "cell_type": "code",
   "execution_count": 27,
   "id": "d026534a",
   "metadata": {},
   "outputs": [],
   "source": [
    "df1_long = df1_cleaned.melt(\n",
    "id_vars=[\"Group\"],\n",
    "var_name=\"Full Category\",\n",
    "value_name=\"Value\"\n",
    ")"
   ]
  },
  {
   "cell_type": "code",
   "execution_count": 28,
   "id": "73465625",
   "metadata": {},
   "outputs": [],
   "source": [
    "split_cols = df1_long[\"Full Category\"].str.split(\"!!\", expand=True)\n",
    "split_cols.columns = [\"State\", \"Metric Type\", \"Metric\"]"
   ]
  },
  {
   "cell_type": "code",
   "execution_count": 29,
   "id": "7730b1cf",
   "metadata": {},
   "outputs": [],
   "source": [
    "df1_long = df1_long.join(split_cols)\n",
    "df1_long.drop(columns=[\"Full Category\"], inplace=True)"
   ]
  },
  {
   "cell_type": "code",
   "execution_count": 30,
   "id": "f687556d",
   "metadata": {},
   "outputs": [
    {
     "data": {
      "text/html": [
       "<div>\n",
       "<style scoped>\n",
       "    .dataframe tbody tr th:only-of-type {\n",
       "        vertical-align: middle;\n",
       "    }\n",
       "\n",
       "    .dataframe tbody tr th {\n",
       "        vertical-align: top;\n",
       "    }\n",
       "\n",
       "    .dataframe thead th {\n",
       "        text-align: right;\n",
       "    }\n",
       "</style>\n",
       "<table border=\"1\" class=\"dataframe\">\n",
       "  <thead>\n",
       "    <tr style=\"text-align: right;\">\n",
       "      <th></th>\n",
       "      <th>Group</th>\n",
       "      <th>Value</th>\n",
       "      <th>State</th>\n",
       "      <th>Metric Type</th>\n",
       "      <th>Metric</th>\n",
       "    </tr>\n",
       "  </thead>\n",
       "  <tbody>\n",
       "    <tr>\n",
       "      <th>0</th>\n",
       "      <td>Households</td>\n",
       "      <td>1,969,105</td>\n",
       "      <td>Alabama</td>\n",
       "      <td>Number</td>\n",
       "      <td>Estimate</td>\n",
       "    </tr>\n",
       "    <tr>\n",
       "      <th>1</th>\n",
       "      <td>One race--</td>\n",
       "      <td>NaN</td>\n",
       "      <td>Alabama</td>\n",
       "      <td>Number</td>\n",
       "      <td>Estimate</td>\n",
       "    </tr>\n",
       "    <tr>\n",
       "      <th>2</th>\n",
       "      <td>White</td>\n",
       "      <td>1,327,559</td>\n",
       "      <td>Alabama</td>\n",
       "      <td>Number</td>\n",
       "      <td>Estimate</td>\n",
       "    </tr>\n",
       "    <tr>\n",
       "      <th>3</th>\n",
       "      <td>Black or African American</td>\n",
       "      <td>513,880</td>\n",
       "      <td>Alabama</td>\n",
       "      <td>Number</td>\n",
       "      <td>Estimate</td>\n",
       "    </tr>\n",
       "    <tr>\n",
       "      <th>4</th>\n",
       "      <td>American Indian and Alaska Native</td>\n",
       "      <td>7,795</td>\n",
       "      <td>Alabama</td>\n",
       "      <td>Number</td>\n",
       "      <td>Estimate</td>\n",
       "    </tr>\n",
       "  </tbody>\n",
       "</table>\n",
       "</div>"
      ],
      "text/plain": [
       "                                           Group      Value    State  \\\n",
       "0                                     Households  1,969,105  Alabama   \n",
       "1                                     One race--        NaN  Alabama   \n",
       "2                                          White  1,327,559  Alabama   \n",
       "3                      Black or African American    513,880  Alabama   \n",
       "4              American Indian and Alaska Native      7,795  Alabama   \n",
       "\n",
       "  Metric Type    Metric  \n",
       "0      Number  Estimate  \n",
       "1      Number  Estimate  \n",
       "2      Number  Estimate  \n",
       "3      Number  Estimate  \n",
       "4      Number  Estimate  "
      ]
     },
     "execution_count": 30,
     "metadata": {},
     "output_type": "execute_result"
    }
   ],
   "source": [
    "df1_long.head()"
   ]
  },
  {
   "cell_type": "code",
   "execution_count": 15,
   "id": "041eb588",
   "metadata": {},
   "outputs": [],
   "source": [
    "id_vars = ['Label (Grouping)']\n",
    "value_vars = [col for col in df2.columns\n",
    "             if col not in id_vars]"
   ]
  },
  {
   "cell_type": "code",
   "execution_count": 16,
   "id": "f7d680ee",
   "metadata": {},
   "outputs": [],
   "source": [
    "df2_long = df2.melt(id_vars=id_vars,value_vars=value_vars,\n",
    "                   var_name='State_Attribute',\n",
    "                   value_name='Value')"
   ]
  },
  {
   "cell_type": "code",
   "execution_count": 18,
   "id": "15d7cb3b",
   "metadata": {},
   "outputs": [],
   "source": [
    "df2_long[['State', 'Attribute']] = df2_long['State_Attribute'].str.split('!!', expand=True)"
   ]
  },
  {
   "cell_type": "code",
   "execution_count": 19,
   "id": "46010100",
   "metadata": {},
   "outputs": [],
   "source": [
    "df2_long = df2_long[['State', 'Attribute', 'Label (Grouping)', 'Value']]"
   ]
  },
  {
   "cell_type": "code",
   "execution_count": 20,
   "id": "445947c4",
   "metadata": {},
   "outputs": [
    {
     "data": {
      "text/html": [
       "<div>\n",
       "<style scoped>\n",
       "    .dataframe tbody tr th:only-of-type {\n",
       "        vertical-align: middle;\n",
       "    }\n",
       "\n",
       "    .dataframe tbody tr th {\n",
       "        vertical-align: top;\n",
       "    }\n",
       "\n",
       "    .dataframe thead th {\n",
       "        text-align: right;\n",
       "    }\n",
       "</style>\n",
       "<table border=\"1\" class=\"dataframe\">\n",
       "  <thead>\n",
       "    <tr style=\"text-align: right;\">\n",
       "      <th></th>\n",
       "      <th>State</th>\n",
       "      <th>Attribute</th>\n",
       "      <th>Label (Grouping)</th>\n",
       "      <th>Value</th>\n",
       "    </tr>\n",
       "  </thead>\n",
       "  <tbody>\n",
       "    <tr>\n",
       "      <th>0</th>\n",
       "      <td>Alabama</td>\n",
       "      <td>Estimate</td>\n",
       "      <td>SEX AND AGE</td>\n",
       "      <td>NaN</td>\n",
       "    </tr>\n",
       "    <tr>\n",
       "      <th>1</th>\n",
       "      <td>Alabama</td>\n",
       "      <td>Estimate</td>\n",
       "      <td>Total population</td>\n",
       "      <td>5,108,468</td>\n",
       "    </tr>\n",
       "    <tr>\n",
       "      <th>2</th>\n",
       "      <td>Alabama</td>\n",
       "      <td>Estimate</td>\n",
       "      <td>Male</td>\n",
       "      <td>2,471,801</td>\n",
       "    </tr>\n",
       "    <tr>\n",
       "      <th>3</th>\n",
       "      <td>Alabama</td>\n",
       "      <td>Estimate</td>\n",
       "      <td>Female</td>\n",
       "      <td>2,636,667</td>\n",
       "    </tr>\n",
       "    <tr>\n",
       "      <th>4</th>\n",
       "      <td>Alabama</td>\n",
       "      <td>Estimate</td>\n",
       "      <td>Sex ratio (males per 100 females)</td>\n",
       "      <td>93.7</td>\n",
       "    </tr>\n",
       "    <tr>\n",
       "      <th>5</th>\n",
       "      <td>Alabama</td>\n",
       "      <td>Estimate</td>\n",
       "      <td>Under 5 years</td>\n",
       "      <td>288,019</td>\n",
       "    </tr>\n",
       "    <tr>\n",
       "      <th>6</th>\n",
       "      <td>Alabama</td>\n",
       "      <td>Estimate</td>\n",
       "      <td>5 to 9 years</td>\n",
       "      <td>305,731</td>\n",
       "    </tr>\n",
       "    <tr>\n",
       "      <th>7</th>\n",
       "      <td>Alabama</td>\n",
       "      <td>Estimate</td>\n",
       "      <td>10 to 14 years</td>\n",
       "      <td>331,262</td>\n",
       "    </tr>\n",
       "    <tr>\n",
       "      <th>8</th>\n",
       "      <td>Alabama</td>\n",
       "      <td>Estimate</td>\n",
       "      <td>15 to 19 years</td>\n",
       "      <td>350,694</td>\n",
       "    </tr>\n",
       "    <tr>\n",
       "      <th>9</th>\n",
       "      <td>Alabama</td>\n",
       "      <td>Estimate</td>\n",
       "      <td>20 to 24 years</td>\n",
       "      <td>333,795</td>\n",
       "    </tr>\n",
       "  </tbody>\n",
       "</table>\n",
       "</div>"
      ],
      "text/plain": [
       "     State Attribute                           Label (Grouping)      Value\n",
       "0  Alabama  Estimate                                SEX AND AGE        NaN\n",
       "1  Alabama  Estimate                           Total population  5,108,468\n",
       "2  Alabama  Estimate                                       Male  2,471,801\n",
       "3  Alabama  Estimate                                     Female  2,636,667\n",
       "4  Alabama  Estimate          Sex ratio (males per 100 females)       93.7\n",
       "5  Alabama  Estimate                              Under 5 years    288,019\n",
       "6  Alabama  Estimate                               5 to 9 years    305,731\n",
       "7  Alabama  Estimate                             10 to 14 years    331,262\n",
       "8  Alabama  Estimate                             15 to 19 years    350,694\n",
       "9  Alabama  Estimate                             20 to 24 years    333,795"
      ]
     },
     "execution_count": 20,
     "metadata": {},
     "output_type": "execute_result"
    }
   ],
   "source": [
    "df2_long.head(10)"
   ]
  },
  {
   "cell_type": "code",
   "execution_count": 21,
   "id": "a94a8045",
   "metadata": {},
   "outputs": [],
   "source": [
    "df3_cleaned = df3.drop(index=0).copy()"
   ]
  },
  {
   "cell_type": "code",
   "execution_count": 22,
   "id": "d9233645",
   "metadata": {},
   "outputs": [],
   "source": [
    "df3_cleaned.rename(columns={df3_cleaned.columns[0]: 'Region'}, inplace=True)"
   ]
  },
  {
   "cell_type": "code",
   "execution_count": 23,
   "id": "8921dbec",
   "metadata": {},
   "outputs": [],
   "source": [
    "df3_long = df3_cleaned.melt(id_vars=[\"Region\"], var_name=\"Month\", value_name=\"Median Sale Price\")"
   ]
  },
  {
   "cell_type": "code",
   "execution_count": 24,
   "id": "d7ea921a",
   "metadata": {},
   "outputs": [],
   "source": [
    "df3_long['Median Sale Price'] = df3_long['Median Sale Price'].replace({'\\$': '', 'K': ''}, regex=True).astype(float)"
   ]
  },
  {
   "cell_type": "code",
   "execution_count": 25,
   "id": "a36b4ad3",
   "metadata": {},
   "outputs": [
    {
     "data": {
      "text/html": [
       "<div>\n",
       "<style scoped>\n",
       "    .dataframe tbody tr th:only-of-type {\n",
       "        vertical-align: middle;\n",
       "    }\n",
       "\n",
       "    .dataframe tbody tr th {\n",
       "        vertical-align: top;\n",
       "    }\n",
       "\n",
       "    .dataframe thead th {\n",
       "        text-align: right;\n",
       "    }\n",
       "</style>\n",
       "<table border=\"1\" class=\"dataframe\">\n",
       "  <thead>\n",
       "    <tr style=\"text-align: right;\">\n",
       "      <th></th>\n",
       "      <th>Region</th>\n",
       "      <th>Month</th>\n",
       "      <th>Median Sale Price</th>\n",
       "    </tr>\n",
       "  </thead>\n",
       "  <tbody>\n",
       "    <tr>\n",
       "      <th>0</th>\n",
       "      <td>Alabama</td>\n",
       "      <td>Month of Period End</td>\n",
       "      <td>131.0</td>\n",
       "    </tr>\n",
       "    <tr>\n",
       "      <th>1</th>\n",
       "      <td>Alaska</td>\n",
       "      <td>Month of Period End</td>\n",
       "      <td>240.0</td>\n",
       "    </tr>\n",
       "    <tr>\n",
       "      <th>2</th>\n",
       "      <td>Arizona</td>\n",
       "      <td>Month of Period End</td>\n",
       "      <td>125.0</td>\n",
       "    </tr>\n",
       "    <tr>\n",
       "      <th>3</th>\n",
       "      <td>Arkansas</td>\n",
       "      <td>Month of Period End</td>\n",
       "      <td>100.0</td>\n",
       "    </tr>\n",
       "    <tr>\n",
       "      <th>4</th>\n",
       "      <td>California</td>\n",
       "      <td>Month of Period End</td>\n",
       "      <td>281.0</td>\n",
       "    </tr>\n",
       "  </tbody>\n",
       "</table>\n",
       "</div>"
      ],
      "text/plain": [
       "       Region                Month  Median Sale Price\n",
       "0     Alabama  Month of Period End              131.0\n",
       "1      Alaska  Month of Period End              240.0\n",
       "2     Arizona  Month of Period End              125.0\n",
       "3    Arkansas  Month of Period End              100.0\n",
       "4  California  Month of Period End              281.0"
      ]
     },
     "execution_count": 25,
     "metadata": {},
     "output_type": "execute_result"
    }
   ],
   "source": [
    "df3_long.head()"
   ]
  },
  {
   "cell_type": "code",
   "execution_count": 31,
   "id": "b95dad73",
   "metadata": {},
   "outputs": [],
   "source": [
    "combined_data = pd.merge(df1_long, df2_long, on=\"State\", how=\"outer\")"
   ]
  },
  {
   "cell_type": "code",
   "execution_count": 32,
   "id": "91f3cb37",
   "metadata": {},
   "outputs": [
    {
     "data": {
      "text/html": [
       "<div>\n",
       "<style scoped>\n",
       "    .dataframe tbody tr th:only-of-type {\n",
       "        vertical-align: middle;\n",
       "    }\n",
       "\n",
       "    .dataframe tbody tr th {\n",
       "        vertical-align: top;\n",
       "    }\n",
       "\n",
       "    .dataframe thead th {\n",
       "        text-align: right;\n",
       "    }\n",
       "</style>\n",
       "<table border=\"1\" class=\"dataframe\">\n",
       "  <thead>\n",
       "    <tr style=\"text-align: right;\">\n",
       "      <th></th>\n",
       "      <th>Group</th>\n",
       "      <th>Value_x</th>\n",
       "      <th>State</th>\n",
       "      <th>Metric Type</th>\n",
       "      <th>Metric</th>\n",
       "      <th>Attribute</th>\n",
       "      <th>Label (Grouping)</th>\n",
       "      <th>Value_y</th>\n",
       "    </tr>\n",
       "  </thead>\n",
       "  <tbody>\n",
       "    <tr>\n",
       "      <th>0</th>\n",
       "      <td>Households</td>\n",
       "      <td>1,969,105</td>\n",
       "      <td>Alabama</td>\n",
       "      <td>Number</td>\n",
       "      <td>Estimate</td>\n",
       "      <td>Estimate</td>\n",
       "      <td>SEX AND AGE</td>\n",
       "      <td>NaN</td>\n",
       "    </tr>\n",
       "    <tr>\n",
       "      <th>1</th>\n",
       "      <td>Households</td>\n",
       "      <td>1,969,105</td>\n",
       "      <td>Alabama</td>\n",
       "      <td>Number</td>\n",
       "      <td>Estimate</td>\n",
       "      <td>Estimate</td>\n",
       "      <td>Total population</td>\n",
       "      <td>5,108,468</td>\n",
       "    </tr>\n",
       "    <tr>\n",
       "      <th>2</th>\n",
       "      <td>Households</td>\n",
       "      <td>1,969,105</td>\n",
       "      <td>Alabama</td>\n",
       "      <td>Number</td>\n",
       "      <td>Estimate</td>\n",
       "      <td>Estimate</td>\n",
       "      <td>Male</td>\n",
       "      <td>2,471,801</td>\n",
       "    </tr>\n",
       "    <tr>\n",
       "      <th>3</th>\n",
       "      <td>Households</td>\n",
       "      <td>1,969,105</td>\n",
       "      <td>Alabama</td>\n",
       "      <td>Number</td>\n",
       "      <td>Estimate</td>\n",
       "      <td>Estimate</td>\n",
       "      <td>Female</td>\n",
       "      <td>2,636,667</td>\n",
       "    </tr>\n",
       "    <tr>\n",
       "      <th>4</th>\n",
       "      <td>Households</td>\n",
       "      <td>1,969,105</td>\n",
       "      <td>Alabama</td>\n",
       "      <td>Number</td>\n",
       "      <td>Estimate</td>\n",
       "      <td>Estimate</td>\n",
       "      <td>Sex ratio (males per 100 females)</td>\n",
       "      <td>93.7</td>\n",
       "    </tr>\n",
       "  </tbody>\n",
       "</table>\n",
       "</div>"
      ],
      "text/plain": [
       "            Group    Value_x    State Metric Type    Metric Attribute  \\\n",
       "0      Households  1,969,105  Alabama      Number  Estimate  Estimate   \n",
       "1      Households  1,969,105  Alabama      Number  Estimate  Estimate   \n",
       "2      Households  1,969,105  Alabama      Number  Estimate  Estimate   \n",
       "3      Households  1,969,105  Alabama      Number  Estimate  Estimate   \n",
       "4      Households  1,969,105  Alabama      Number  Estimate  Estimate   \n",
       "\n",
       "                            Label (Grouping)    Value_y  \n",
       "0                                SEX AND AGE        NaN  \n",
       "1                           Total population  5,108,468  \n",
       "2                                       Male  2,471,801  \n",
       "3                                     Female  2,636,667  \n",
       "4          Sex ratio (males per 100 females)       93.7  "
      ]
     },
     "execution_count": 32,
     "metadata": {},
     "output_type": "execute_result"
    }
   ],
   "source": [
    "combined_data.head()"
   ]
  },
  {
   "cell_type": "code",
   "execution_count": 35,
   "id": "fa6f090e",
   "metadata": {
    "scrolled": true
   },
   "outputs": [
    {
     "data": {
      "text/plain": [
       "Index(['Region', 'Month', 'Median Sale Price'], dtype='object')"
      ]
     },
     "execution_count": 35,
     "metadata": {},
     "output_type": "execute_result"
    }
   ],
   "source": [
    "df3_long.columns"
   ]
  },
  {
   "cell_type": "code",
   "execution_count": 36,
   "id": "8dc2c594",
   "metadata": {},
   "outputs": [],
   "source": [
    "df3_long.rename(columns={\"Region\": \"State\"}, inplace=True)"
   ]
  },
  {
   "cell_type": "code",
   "execution_count": null,
   "id": "91c8bb89",
   "metadata": {},
   "outputs": [],
   "source": [
    "final_combined_data = pd.merge(combined_data, df3_long, on=\"State\", how=\"outer\")"
   ]
  },
  {
   "cell_type": "code",
   "execution_count": null,
   "id": "46b51b8e",
   "metadata": {},
   "outputs": [],
   "source": [
    "final_combined_data.head()"
   ]
  },
  {
   "cell_type": "code",
   "execution_count": null,
   "id": "bdb840ae",
   "metadata": {},
   "outputs": [],
   "source": []
  }
 ],
 "metadata": {
  "kernelspec": {
   "display_name": "Python 3 (ipykernel)",
   "language": "python",
   "name": "python3"
  },
  "language_info": {
   "codemirror_mode": {
    "name": "ipython",
    "version": 3
   },
   "file_extension": ".py",
   "mimetype": "text/x-python",
   "name": "python",
   "nbconvert_exporter": "python",
   "pygments_lexer": "ipython3",
   "version": "3.11.5"
  }
 },
 "nbformat": 4,
 "nbformat_minor": 5
}
